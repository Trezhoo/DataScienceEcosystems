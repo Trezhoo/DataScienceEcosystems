{
 "cells": [
  {
   "cell_type": "markdown",
   "id": "89fa9167-6101-4757-881e-7d37bac2d509",
   "metadata": {},
   "source": [
    "# Data Science Tools and Ecosystem"
   ]
  },
  {
   "cell_type": "markdown",
   "id": "f5d8a0d3-341d-42bd-9038-d58fbeafa53e",
   "metadata": {},
   "source": [
    "In this notebook, Data Science Tools and Ecosystems are summarized for a concise understanding with key points."
   ]
  },
  {
   "cell_type": "markdown",
   "id": "d0063d03-d659-48cb-8e45-0aecb175098e",
   "metadata": {},
   "source": [
    "**Objectives**\n",
    "- List some popular languages for Data Science\n",
    "- List some popular libraries for Data Science\n",
    "- List some common development environments\n",
    "- Be able to multiply and add integers\n",
    "- Convert minutes into hours"
   ]
  },
  {
   "cell_type": "markdown",
   "id": "ab02b79b-629c-455f-ac96-effc76c1c05b",
   "metadata": {},
   "source": [
    "Some of the Popular languages that Data Scientists use are:\n",
    "1. Python\n",
    "2. R\n",
    "3. SQL\n",
    "4. Java\n",
    "5. Julia"
   ]
  },
  {
   "cell_type": "markdown",
   "id": "3690c951-cd03-46ca-a442-c26037ed7d4d",
   "metadata": {},
   "source": [
    "Some of the commonly used libraries used by Data Scientists include:\n",
    "1. Pandas\n",
    "2. NumPy\n",
    "3. Matplotlib\n",
    "4. Seaborn\n",
    "5. Scikit-learn\n",
    "6. TensorFlow\n",
    "7. dplyr\n",
    "8. ggplot2"
   ]
  },
  {
   "cell_type": "markdown",
   "id": "6a01d00a-21e2-4a87-b0c6-abd7114236eb",
   "metadata": {},
   "source": [
    "| Data Science Tools |\n",
    "| ----------------- |\n",
    "| Jupyter |\n",
    "| Spyder |\n",
    "| RStudio |"
   ]
  },
  {
   "cell_type": "markdown",
   "id": "53dcf512-c8a9-4632-a8af-4dda0eaab666",
   "metadata": {},
   "source": [
    "### Below are a few examples of evaluating arithmetic expressions in Python"
   ]
  },
  {
   "cell_type": "code",
   "execution_count": 1,
   "id": "51f46509-2496-4053-97b8-3849e4e25cae",
   "metadata": {},
   "outputs": [
    {
     "data": {
      "text/plain": [
       "17"
      ]
     },
     "execution_count": 1,
     "metadata": {},
     "output_type": "execute_result"
    }
   ],
   "source": [
    "# This is a simple arithmetic expression to multiply then add integers\n",
    "(3*4)+5"
   ]
  },
  {
   "cell_type": "code",
   "execution_count": 5,
   "id": "40b27f27-21f8-463d-8267-2654d5b06130",
   "metadata": {},
   "outputs": [
    {
     "name": "stdout",
     "output_type": "stream",
     "text": [
      "200 minutes is equal to 3.3333333333333335 hours.\n"
     ]
    }
   ],
   "source": [
    "# This will convert 200 minutes to hours by dividing by 60\n",
    "minutes = 200\n",
    "hours = minutes/60\n",
    "print(f\"{minutes} minutes is equal to {hours} hours.\")"
   ]
  },
  {
   "cell_type": "markdown",
   "id": "0c34be50-b459-4e3d-91a3-b4cde56570af",
   "metadata": {},
   "source": [
    "## Author\n",
    "Treizhiger JEAN"
   ]
  },
  {
   "cell_type": "code",
   "execution_count": null,
   "id": "fbbc0dbc-ff9c-4d3d-9561-4cfb731cb209",
   "metadata": {},
   "outputs": [],
   "source": []
  }
 ],
 "metadata": {
  "kernelspec": {
   "display_name": "Python 3 (ipykernel)",
   "language": "python",
   "name": "python3"
  },
  "language_info": {
   "codemirror_mode": {
    "name": "ipython",
    "version": 3
   },
   "file_extension": ".py",
   "mimetype": "text/x-python",
   "name": "python",
   "nbconvert_exporter": "python",
   "pygments_lexer": "ipython3",
   "version": "3.12.7"
  }
 },
 "nbformat": 4,
 "nbformat_minor": 5
}
